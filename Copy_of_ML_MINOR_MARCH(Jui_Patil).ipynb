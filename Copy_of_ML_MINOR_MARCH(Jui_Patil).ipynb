{
  "nbformat": 4,
  "nbformat_minor": 0,
  "metadata": {
    "colab": {
      "name": "Copy of  ML-MINOR-MARCH(Jui Patil).ipynb",
      "provenance": [],
      "mount_file_id": "1UzmrxXChwikAZ7aX07eqWthrj-3cWo3W",
      "authorship_tag": "ABX9TyNTeSZk8kolq/4M7cpfg7rT",
      "include_colab_link": true
    },
    "kernelspec": {
      "name": "python3",
      "display_name": "Python 3"
    },
    "language_info": {
      "name": "python"
    }
  },
  "cells": [
    {
      "cell_type": "markdown",
      "metadata": {
        "id": "view-in-github",
        "colab_type": "text"
      },
      "source": [
        "<a href=\"https://colab.research.google.com/github/jui24/Sparks-Foundation-Task/blob/main/Copy_of_ML_MINOR_MARCH(Jui_Patil).ipynb\" target=\"_parent\"><img src=\"https://colab.research.google.com/assets/colab-badge.svg\" alt=\"Open In Colab\"/></a>"
      ]
    },
    {
      "cell_type": "code",
      "metadata": {
        "id": "uQR894Wx937x"
      },
      "source": [
        "\n",
        "import numpy as np\n",
        "import pandas as pd\n",
        "import matplotlib.pyplot as plt\n",
        "from sklearn.model_selection import train_test_split\n",
        "from sklearn.linear_model import LinearRegression \n",
        "from sklearn import metrics\n"
      ],
      "execution_count": null,
      "outputs": []
    },
    {
      "cell_type": "code",
      "metadata": {
        "colab": {
          "base_uri": "https://localhost:8080/"
        },
        "id": "lDDQFx0w9-jp",
        "outputId": "0ec31ab6-f5f8-49e1-d90b-3cba51072ab5"
      },
      "source": [
        "dataset = pd.read_csv('/content/drive/MyDrive/ML minor/tmdb_movies_data.csv (1).zip')\n",
        "dataset = pd.DataFrame(dataset)\n",
        "print(dataset.info())"
      ],
      "execution_count": null,
      "outputs": [
        {
          "output_type": "stream",
          "text": [
            "<class 'pandas.core.frame.DataFrame'>\n",
            "RangeIndex: 10866 entries, 0 to 10865\n",
            "Data columns (total 21 columns):\n",
            " #   Column                Non-Null Count  Dtype  \n",
            "---  ------                --------------  -----  \n",
            " 0   id                    10866 non-null  int64  \n",
            " 1   imdb_id               10856 non-null  object \n",
            " 2   popularity            10866 non-null  float64\n",
            " 3   budget                10866 non-null  int64  \n",
            " 4   revenue               10866 non-null  int64  \n",
            " 5   original_title        10866 non-null  object \n",
            " 6   cast                  10790 non-null  object \n",
            " 7   homepage              2936 non-null   object \n",
            " 8   director              10822 non-null  object \n",
            " 9   tagline               8042 non-null   object \n",
            " 10  keywords              9373 non-null   object \n",
            " 11  overview              10862 non-null  object \n",
            " 12  runtime               10866 non-null  int64  \n",
            " 13  genres                10843 non-null  object \n",
            " 14  production_companies  9836 non-null   object \n",
            " 15  release_date          10866 non-null  object \n",
            " 16  vote_count            10866 non-null  int64  \n",
            " 17  vote_average          10866 non-null  float64\n",
            " 18  release_year          10866 non-null  int64  \n",
            " 19  budget_adj            10866 non-null  float64\n",
            " 20  revenue_adj           10866 non-null  float64\n",
            "dtypes: float64(4), int64(6), object(11)\n",
            "memory usage: 1.7+ MB\n",
            "None\n"
          ],
          "name": "stdout"
        }
      ]
    },
    {
      "cell_type": "code",
      "metadata": {
        "colab": {
          "base_uri": "https://localhost:8080/",
          "height": 314
        },
        "id": "GQ2TEWmyGvXX",
        "outputId": "c468f2ea-abae-4cd5-ded5-d292c0104e60"
      },
      "source": [
        "dataset.describe()"
      ],
      "execution_count": null,
      "outputs": [
        {
          "output_type": "execute_result",
          "data": {
            "text/html": [
              "<div>\n",
              "<style scoped>\n",
              "    .dataframe tbody tr th:only-of-type {\n",
              "        vertical-align: middle;\n",
              "    }\n",
              "\n",
              "    .dataframe tbody tr th {\n",
              "        vertical-align: top;\n",
              "    }\n",
              "\n",
              "    .dataframe thead th {\n",
              "        text-align: right;\n",
              "    }\n",
              "</style>\n",
              "<table border=\"1\" class=\"dataframe\">\n",
              "  <thead>\n",
              "    <tr style=\"text-align: right;\">\n",
              "      <th></th>\n",
              "      <th>id</th>\n",
              "      <th>popularity</th>\n",
              "      <th>budget</th>\n",
              "      <th>revenue</th>\n",
              "      <th>runtime</th>\n",
              "      <th>vote_count</th>\n",
              "      <th>vote_average</th>\n",
              "      <th>release_year</th>\n",
              "      <th>budget_adj</th>\n",
              "      <th>revenue_adj</th>\n",
              "    </tr>\n",
              "  </thead>\n",
              "  <tbody>\n",
              "    <tr>\n",
              "      <th>count</th>\n",
              "      <td>10866.000000</td>\n",
              "      <td>10866.000000</td>\n",
              "      <td>1.086600e+04</td>\n",
              "      <td>1.086600e+04</td>\n",
              "      <td>10866.000000</td>\n",
              "      <td>10866.000000</td>\n",
              "      <td>10866.000000</td>\n",
              "      <td>10866.000000</td>\n",
              "      <td>1.086600e+04</td>\n",
              "      <td>1.086600e+04</td>\n",
              "    </tr>\n",
              "    <tr>\n",
              "      <th>mean</th>\n",
              "      <td>66064.177434</td>\n",
              "      <td>0.646441</td>\n",
              "      <td>1.462570e+07</td>\n",
              "      <td>3.982332e+07</td>\n",
              "      <td>102.070863</td>\n",
              "      <td>217.389748</td>\n",
              "      <td>5.974922</td>\n",
              "      <td>2001.322658</td>\n",
              "      <td>1.755104e+07</td>\n",
              "      <td>5.136436e+07</td>\n",
              "    </tr>\n",
              "    <tr>\n",
              "      <th>std</th>\n",
              "      <td>92130.136561</td>\n",
              "      <td>1.000185</td>\n",
              "      <td>3.091321e+07</td>\n",
              "      <td>1.170035e+08</td>\n",
              "      <td>31.381405</td>\n",
              "      <td>575.619058</td>\n",
              "      <td>0.935142</td>\n",
              "      <td>12.812941</td>\n",
              "      <td>3.430616e+07</td>\n",
              "      <td>1.446325e+08</td>\n",
              "    </tr>\n",
              "    <tr>\n",
              "      <th>min</th>\n",
              "      <td>5.000000</td>\n",
              "      <td>0.000065</td>\n",
              "      <td>0.000000e+00</td>\n",
              "      <td>0.000000e+00</td>\n",
              "      <td>0.000000</td>\n",
              "      <td>10.000000</td>\n",
              "      <td>1.500000</td>\n",
              "      <td>1960.000000</td>\n",
              "      <td>0.000000e+00</td>\n",
              "      <td>0.000000e+00</td>\n",
              "    </tr>\n",
              "    <tr>\n",
              "      <th>25%</th>\n",
              "      <td>10596.250000</td>\n",
              "      <td>0.207583</td>\n",
              "      <td>0.000000e+00</td>\n",
              "      <td>0.000000e+00</td>\n",
              "      <td>90.000000</td>\n",
              "      <td>17.000000</td>\n",
              "      <td>5.400000</td>\n",
              "      <td>1995.000000</td>\n",
              "      <td>0.000000e+00</td>\n",
              "      <td>0.000000e+00</td>\n",
              "    </tr>\n",
              "    <tr>\n",
              "      <th>50%</th>\n",
              "      <td>20669.000000</td>\n",
              "      <td>0.383856</td>\n",
              "      <td>0.000000e+00</td>\n",
              "      <td>0.000000e+00</td>\n",
              "      <td>99.000000</td>\n",
              "      <td>38.000000</td>\n",
              "      <td>6.000000</td>\n",
              "      <td>2006.000000</td>\n",
              "      <td>0.000000e+00</td>\n",
              "      <td>0.000000e+00</td>\n",
              "    </tr>\n",
              "    <tr>\n",
              "      <th>75%</th>\n",
              "      <td>75610.000000</td>\n",
              "      <td>0.713817</td>\n",
              "      <td>1.500000e+07</td>\n",
              "      <td>2.400000e+07</td>\n",
              "      <td>111.000000</td>\n",
              "      <td>145.750000</td>\n",
              "      <td>6.600000</td>\n",
              "      <td>2011.000000</td>\n",
              "      <td>2.085325e+07</td>\n",
              "      <td>3.369710e+07</td>\n",
              "    </tr>\n",
              "    <tr>\n",
              "      <th>max</th>\n",
              "      <td>417859.000000</td>\n",
              "      <td>32.985763</td>\n",
              "      <td>4.250000e+08</td>\n",
              "      <td>2.781506e+09</td>\n",
              "      <td>900.000000</td>\n",
              "      <td>9767.000000</td>\n",
              "      <td>9.200000</td>\n",
              "      <td>2015.000000</td>\n",
              "      <td>4.250000e+08</td>\n",
              "      <td>2.827124e+09</td>\n",
              "    </tr>\n",
              "  </tbody>\n",
              "</table>\n",
              "</div>"
            ],
            "text/plain": [
              "                  id    popularity  ...    budget_adj   revenue_adj\n",
              "count   10866.000000  10866.000000  ...  1.086600e+04  1.086600e+04\n",
              "mean    66064.177434      0.646441  ...  1.755104e+07  5.136436e+07\n",
              "std     92130.136561      1.000185  ...  3.430616e+07  1.446325e+08\n",
              "min         5.000000      0.000065  ...  0.000000e+00  0.000000e+00\n",
              "25%     10596.250000      0.207583  ...  0.000000e+00  0.000000e+00\n",
              "50%     20669.000000      0.383856  ...  0.000000e+00  0.000000e+00\n",
              "75%     75610.000000      0.713817  ...  2.085325e+07  3.369710e+07\n",
              "max    417859.000000     32.985763  ...  4.250000e+08  2.827124e+09\n",
              "\n",
              "[8 rows x 10 columns]"
            ]
          },
          "metadata": {
            "tags": []
          },
          "execution_count": 5
        }
      ]
    },
    {
      "cell_type": "code",
      "metadata": {
        "colab": {
          "base_uri": "https://localhost:8080/"
        },
        "id": "pHLq5LSdG9_f",
        "outputId": "879019b8-f42b-4b75-d843-70e3fe6b5eff"
      },
      "source": [
        "dataset = pd.DataFrame(dataset)\n",
        "print(dataset.info())"
      ],
      "execution_count": null,
      "outputs": [
        {
          "output_type": "stream",
          "text": [
            "<class 'pandas.core.frame.DataFrame'>\n",
            "RangeIndex: 10866 entries, 0 to 10865\n",
            "Data columns (total 21 columns):\n",
            " #   Column                Non-Null Count  Dtype  \n",
            "---  ------                --------------  -----  \n",
            " 0   id                    10866 non-null  int64  \n",
            " 1   imdb_id               10856 non-null  object \n",
            " 2   popularity            10866 non-null  float64\n",
            " 3   budget                10866 non-null  int64  \n",
            " 4   revenue               10866 non-null  int64  \n",
            " 5   original_title        10866 non-null  object \n",
            " 6   cast                  10790 non-null  object \n",
            " 7   homepage              2936 non-null   object \n",
            " 8   director              10822 non-null  object \n",
            " 9   tagline               8042 non-null   object \n",
            " 10  keywords              9373 non-null   object \n",
            " 11  overview              10862 non-null  object \n",
            " 12  runtime               10866 non-null  int64  \n",
            " 13  genres                10843 non-null  object \n",
            " 14  production_companies  9836 non-null   object \n",
            " 15  release_date          10866 non-null  object \n",
            " 16  vote_count            10866 non-null  int64  \n",
            " 17  vote_average          10866 non-null  float64\n",
            " 18  release_year          10866 non-null  int64  \n",
            " 19  budget_adj            10866 non-null  float64\n",
            " 20  revenue_adj           10866 non-null  float64\n",
            "dtypes: float64(4), int64(6), object(11)\n",
            "memory usage: 1.7+ MB\n",
            "None\n"
          ],
          "name": "stdout"
        }
      ]
    },
    {
      "cell_type": "code",
      "metadata": {
        "colab": {
          "base_uri": "https://localhost:8080/"
        },
        "id": "EwoUj3tQHFI8",
        "outputId": "00845371-b9e3-485e-d94f-d7f57113bc21"
      },
      "source": [
        "dataset.drop([\"id\", \"homepage\", \"keywords\", \"overview\", \"production_companies\", \"tagline\", \"imdb_id\", \"popularity\", \"director\", \"vote_count\", \"vote_average\", \"budget_adj\", \"revenue_adj\", \"release_year\"], axis = 1, inplace = True)\n",
        "dataset.drop_duplicates(inplace=True)\n",
        "dataset.drop(dataset[dataset['budget'] == 0].index, inplace = True) \n",
        "dataset.drop(dataset[dataset['revenue'] == 0].index, inplace = True) \n",
        "dataset.insert(0, 'New_ID', range(0, len(dataset)))\n",
        "print(dataset.info())"
      ],
      "execution_count": null,
      "outputs": [
        {
          "output_type": "stream",
          "text": [
            "<class 'pandas.core.frame.DataFrame'>\n",
            "Int64Index: 3854 entries, 0 to 10848\n",
            "Data columns (total 8 columns):\n",
            " #   Column          Non-Null Count  Dtype \n",
            "---  ------          --------------  ----- \n",
            " 0   New_ID          3854 non-null   int64 \n",
            " 1   budget          3854 non-null   int64 \n",
            " 2   revenue         3854 non-null   int64 \n",
            " 3   original_title  3854 non-null   object\n",
            " 4   cast            3850 non-null   object\n",
            " 5   runtime         3854 non-null   int64 \n",
            " 6   genres          3854 non-null   object\n",
            " 7   release_date    3854 non-null   object\n",
            "dtypes: int64(4), object(4)\n",
            "memory usage: 271.0+ KB\n",
            "None\n"
          ],
          "name": "stdout"
        }
      ]
    },
    {
      "cell_type": "code",
      "metadata": {
        "colab": {
          "base_uri": "https://localhost:8080/"
        },
        "id": "e96VdymGI9dU",
        "outputId": "05a49b8e-8fe8-43d0-9b23-3abc06e8cfd2"
      },
      "source": [
        "print(\"Dates beofre processing them\\n\", dataset['release_date'].head(5))\n",
        "dataset['release_date'] = pd.to_datetime(dataset['release_date'])\n",
        "print(\"Dates after processing them\\n\", dataset['release_date'].head(5))"
      ],
      "execution_count": null,
      "outputs": [
        {
          "output_type": "stream",
          "text": [
            "Dates beofre processing them\n",
            " 0      6/9/2015\n",
            "1     5/13/2015\n",
            "2     3/18/2015\n",
            "3    12/15/2015\n",
            "4      4/1/2015\n",
            "Name: release_date, dtype: object\n",
            "Dates after processing them\n",
            " 0   2015-06-09\n",
            "1   2015-05-13\n",
            "2   2015-03-18\n",
            "3   2015-12-15\n",
            "4   2015-04-01\n",
            "Name: release_date, dtype: datetime64[ns]\n"
          ],
          "name": "stdout"
        }
      ]
    },
    {
      "cell_type": "markdown",
      "metadata": {
        "id": "SLzyxu83ha47"
      },
      "source": [
        "Which are the movies with the third-lowest and third-highest budget?"
      ]
    },
    {
      "cell_type": "code",
      "metadata": {
        "colab": {
          "base_uri": "https://localhost:8080/"
        },
        "id": "3zUoaKmFJGjW",
        "outputId": "8bfa4fd1-971c-4ac9-e186-840b6135e448"
      },
      "source": [
        "def sort(column, n_num, keep_type_max, keep_type_min, keep_all):\n",
        "    dataset_sort = dataset.copy()\n",
        "    if(keep_all == \"no\"): \n",
        "        dataset_sort = dataset_sort.drop_duplicates(subset = column, keep=\"first\")\n",
        "    maximum = dataset_sort.loc[dataset_sort[column].nlargest(n_num, keep = keep_type_max).idxmin()]\n",
        "    id_max = dataset_sort.loc[lambda dataset_sort: dataset_sort[column] == maximum[column]]\n",
        "    \n",
        "    minimum = dataset_sort.loc[dataset_sort[column].nsmallest(n_num, keep = keep_type_min).idxmax()]\n",
        "    id_min = dataset_sort.loc[lambda dataset_sort: dataset_sort[column] == minimum[column]]\n",
        "    return id_max['original_title'], id_min['original_title']\n",
        "\n",
        "maximum, minimum = sort('budget', 3, \"all\", \"all\", \"no\")\n",
        "print(str(\"The third highest budget movies in dataset are :- \\n\" + str(maximum) + \"\\n\\nThe third lowest budget movies in dataset are :- \\n\" + str(minimum)))"
      ],
      "execution_count": null,
      "outputs": [
        {
          "output_type": "stream",
          "text": [
            "The third highest budget movies in dataset are :- \n",
            "7387    Pirates of the Caribbean: At World's End\n",
            "Name: original_title, dtype: object\n",
            "\n",
            "The third lowest budget movies in dataset are :- \n",
            "2398    Boy\n",
            "Name: original_title, dtype: object\n"
          ],
          "name": "stdout"
        }
      ]
    },
    {
      "cell_type": "markdown",
      "metadata": {
        "id": "0XV728Nehox0"
      },
      "source": [
        "What is the average number of words in movie titles between the year 2000-2005?"
      ]
    },
    {
      "cell_type": "code",
      "metadata": {
        "colab": {
          "base_uri": "https://localhost:8080/"
        },
        "id": "ngK3MeXRhq7u",
        "outputId": "42b0bdca-0af8-460c-ae19-aa71200b4748"
      },
      "source": [
        "def average(start, end, column_use, column_want, text):\n",
        "    identity_for_year = dataset.loc[lambda dataset: ((dataset[column_use] > start) & (dataset[column_use] < end))]\n",
        "    sum = 0\n",
        "    for temp in identity_for_year[column_want]:\n",
        "        if (text == \"text\"):\n",
        "            pieces = len(temp.split())\n",
        "            sum = sum + pieces\n",
        "        if (text == \"number\"):\n",
        "            sum = sum + temp\n",
        "    average_count = sum/len(identity_for_year)\n",
        "    return average_count\n",
        "\n",
        "count = average(pd.datetime(1999,12,31), pd.datetime(2007,1,1), 'release_date', 'original_title', \"text\")         \n",
        "print(str(\"Average number of words in movie titles between the year 2000-2005 is approx :- \\n\" + str(round(count, 1)) + \" Words\"))"
      ],
      "execution_count": null,
      "outputs": [
        {
          "output_type": "stream",
          "text": [
            "Average number of words in movie titles between the year 2000-2005 is approx :- \n",
            "2.7 Words\n"
          ],
          "name": "stdout"
        },
        {
          "output_type": "stream",
          "text": [
            "/usr/local/lib/python3.7/dist-packages/ipykernel_launcher.py:13: FutureWarning: The pandas.datetime class is deprecated and will be removed from pandas in a future version. Import from datetime module instead.\n",
            "  del sys.path[0]\n"
          ],
          "name": "stderr"
        }
      ]
    },
    {
      "cell_type": "markdown",
      "metadata": {
        "id": "oqnNTpK3Kf5V"
      },
      "source": [
        "What is the most common Genre for Vin Diesel & Emma Watson movies?"
      ]
    },
    {
      "cell_type": "code",
      "metadata": {
        "colab": {
          "base_uri": "https://localhost:8080/"
        },
        "id": "3yG4Hb8bKZim",
        "outputId": "fd879c08-3d9f-49f9-b614-d4b29f37db88"
      },
      "source": [
        " is the most common Genre for Vin Diesel & Emma Watson movies?\n",
        "def tit_for_tat(data1, column2, data1_column):\n",
        "    dataset_temp = dataset.copy()\n",
        "    dataset_temp[data1_column] = dataset_temp[data1_column].str.contains(data1)\n",
        "    dataset_temp.drop(dataset_temp[dataset_temp[data1_column] == False].index, inplace = True)\n",
        "    dataset_temp.drop([\"New_ID\", \"budget\", \"revenue\", \"original_title\", \"runtime\", \"release_date\"], axis = 1, inplace = True)\n",
        "    dataset_temp.insert(0, 'New_ID', range(0, len(dataset_temp)))\n",
        "    \n",
        "    set_genre = set()\n",
        "    for temp_genre in dataset_temp[column2].str.split('|').values:\n",
        "        if isinstance(temp_genre, float): continue\n",
        "        set_genre = set_genre.union(temp_genre)\n",
        "        \n",
        "    genre_count = dict()\n",
        "    for s in set_genre: genre_count[s] = 0\n",
        "    for temp_genre in dataset_temp[column2].str.split('|'):        \n",
        "        if type(temp_genre) == float and pd.isnull(temp_genre): continue        \n",
        "        for s in [s for s in temp_genre if s in set_genre]: \n",
        "            if pd.notnull(s): genre_count[s] += 1\n",
        "    genre_occurences = []\n",
        "    for k,v in genre_count.items():\n",
        "        genre_occurences.append([k,v])\n",
        "    genre_occurences.sort(key = lambda x:x[1], reverse = True)\n",
        "    return genre_occurences, genre_count\n",
        "\n",
        "count, count1 = tit_for_tat(\"Vin Diesel\", 'genres', 'cast')\n",
        "print(str(\"The most common genre of movies performed by Vin Diesel is :- \\n\" + str(count[:1]) + \"\\n\\n\"))\n",
        "count, count1 = tit_for_tat(\"Emma Watson\", 'genres', 'cast')\n",
        "print(str(\"The most common genre of movies performed by Emma Watson is :- \\n\" + str(count[:1]) ))"
      ],
      "execution_count": null,
      "outputs": [
        {
          "output_type": "stream",
          "text": [
            "Object `movies` not found.\n",
            "The most common genre of movies performed by Vin Diesel is :- \n",
            "[['Action', 14]]\n",
            "\n",
            "\n",
            "The most common genre of movies performed by Emma Watson is :- \n",
            "[['Family', 9]]\n"
          ],
          "name": "stdout"
        }
      ]
    },
    {
      "cell_type": "markdown",
      "metadata": {
        "id": "JWb5U_kRL0L2"
      },
      "source": [
        "Which are the movies with most and least earned revenue?\n"
      ]
    },
    {
      "cell_type": "code",
      "metadata": {
        "colab": {
          "base_uri": "https://localhost:8080/"
        },
        "id": "SihR44ziLtET",
        "outputId": "ccefcbc6-be1b-4a59-f84a-cb0066f6b600"
      },
      "source": [
        "maximum, minimum = sort('revenue', 1, \"all\", \"all\", \"yes\") \n",
        "print(str(\"The most revenue movies is :- \\n\" + str(maximum) + \"\\n\\nThe least revenue movies is :- \\n\" + str(minimum)))"
      ],
      "execution_count": null,
      "outputs": [
        {
          "output_type": "stream",
          "text": [
            "The most revenue movies is :- \n",
            "1386    Avatar\n",
            "Name: original_title, dtype: object\n",
            "\n",
            "The least revenue movies is :- \n",
            "5067    Shattered Glass\n",
            "8142           Mallrats\n",
            "Name: original_title, dtype: object\n"
          ],
          "name": "stdout"
        }
      ]
    },
    {
      "cell_type": "markdown",
      "metadata": {
        "id": "zNtjmdypMBaU"
      },
      "source": [
        "What is the average runtime of movies in the year 2006?"
      ]
    },
    {
      "cell_type": "code",
      "metadata": {
        "colab": {
          "base_uri": "https://localhost:8080/"
        },
        "id": "BJbdIZ8xL981",
        "outputId": "cf740653-56bd-4a7e-885f-dd574a47502c"
      },
      "source": [
        "count = average(pd.datetime(2005, 12, 31), pd.datetime(2007, 1, 1), 'release_date', 'runtime', \"number\") \n",
        "print(str(\"Average runtime of movies in 2006 is approx :- \\n\" + str(round(count, 2)) + \" Minutes\\n\"))"
      ],
      "execution_count": null,
      "outputs": [
        {
          "output_type": "stream",
          "text": [
            "Average runtime of movies in 2006 is approx :- \n",
            "108.19 Minutes\n",
            "\n"
          ],
          "name": "stdout"
        },
        {
          "output_type": "stream",
          "text": [
            "/usr/local/lib/python3.7/dist-packages/ipykernel_launcher.py:1: FutureWarning: The pandas.datetime class is deprecated and will be removed from pandas in a future version. Import from datetime module instead.\n",
            "  \"\"\"Entry point for launching an IPython kernel.\n"
          ],
          "name": "stderr"
        }
      ]
    }
  ]
}